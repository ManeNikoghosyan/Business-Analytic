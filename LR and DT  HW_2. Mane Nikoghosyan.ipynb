{
 "cells": [
  {
   "cell_type": "code",
   "execution_count": 1,
   "metadata": {},
   "outputs": [],
   "source": [
    "import pandas as pd\n",
    "import matplotlib.pyplot as plt\n",
    "import numpy as np\n",
    "import seaborn as sns\n",
    "from sklearn.model_selection import train_test_split\n",
    "from sklearn.linear_model import LogisticRegression\n",
    "from statsmodels.discrete.discrete_model import Logit\n",
    "from sklearn.tree import DecisionTreeClassifier\n",
    "from sklearn.tree import export_graphviz"
   ]
  },
  {
   "cell_type": "code",
   "execution_count": 2,
   "metadata": {},
   "outputs": [],
   "source": [
    "data=pd.read_excel(\"Employee_attrition.xlsx\")"
   ]
  },
  {
   "cell_type": "code",
   "execution_count": 6,
   "metadata": {},
   "outputs": [
    {
     "data": {
      "text/html": [
       "<div>\n",
       "<style scoped>\n",
       "    .dataframe tbody tr th:only-of-type {\n",
       "        vertical-align: middle;\n",
       "    }\n",
       "\n",
       "    .dataframe tbody tr th {\n",
       "        vertical-align: top;\n",
       "    }\n",
       "\n",
       "    .dataframe thead th {\n",
       "        text-align: right;\n",
       "    }\n",
       "</style>\n",
       "<table border=\"1\" class=\"dataframe\">\n",
       "  <thead>\n",
       "    <tr style=\"text-align: right;\">\n",
       "      <th></th>\n",
       "      <th>Age</th>\n",
       "      <th>Attrition</th>\n",
       "      <th>BusinessTravel</th>\n",
       "      <th>DailyRate</th>\n",
       "      <th>Department</th>\n",
       "      <th>DistanceFromHome</th>\n",
       "      <th>Education</th>\n",
       "      <th>EducationField</th>\n",
       "      <th>EmployeeCount</th>\n",
       "      <th>EmployeeNumber</th>\n",
       "      <th>...</th>\n",
       "      <th>RelationshipSatisfaction</th>\n",
       "      <th>StandardHours</th>\n",
       "      <th>StockOptionLevel</th>\n",
       "      <th>TotalWorkingYears</th>\n",
       "      <th>TrainingTimesLastYear</th>\n",
       "      <th>WorkLifeBalance</th>\n",
       "      <th>YearsAtCompany</th>\n",
       "      <th>YearsInCurrentRole</th>\n",
       "      <th>YearsSinceLastPromotion</th>\n",
       "      <th>YearsWithCurrManager</th>\n",
       "    </tr>\n",
       "  </thead>\n",
       "  <tbody>\n",
       "    <tr>\n",
       "      <th>0</th>\n",
       "      <td>41</td>\n",
       "      <td>Yes</td>\n",
       "      <td>Travel_Rarely</td>\n",
       "      <td>1102</td>\n",
       "      <td>Sales</td>\n",
       "      <td>1</td>\n",
       "      <td>2</td>\n",
       "      <td>Life_Sciences</td>\n",
       "      <td>1</td>\n",
       "      <td>1</td>\n",
       "      <td>...</td>\n",
       "      <td>1</td>\n",
       "      <td>80</td>\n",
       "      <td>0</td>\n",
       "      <td>8</td>\n",
       "      <td>0</td>\n",
       "      <td>1</td>\n",
       "      <td>6</td>\n",
       "      <td>4</td>\n",
       "      <td>0</td>\n",
       "      <td>5</td>\n",
       "    </tr>\n",
       "    <tr>\n",
       "      <th>1</th>\n",
       "      <td>49</td>\n",
       "      <td>No</td>\n",
       "      <td>Travel_Frequently</td>\n",
       "      <td>279</td>\n",
       "      <td>Research_Development</td>\n",
       "      <td>8</td>\n",
       "      <td>1</td>\n",
       "      <td>Life_Sciences</td>\n",
       "      <td>1</td>\n",
       "      <td>2</td>\n",
       "      <td>...</td>\n",
       "      <td>4</td>\n",
       "      <td>80</td>\n",
       "      <td>1</td>\n",
       "      <td>10</td>\n",
       "      <td>3</td>\n",
       "      <td>3</td>\n",
       "      <td>10</td>\n",
       "      <td>7</td>\n",
       "      <td>1</td>\n",
       "      <td>7</td>\n",
       "    </tr>\n",
       "    <tr>\n",
       "      <th>2</th>\n",
       "      <td>37</td>\n",
       "      <td>Yes</td>\n",
       "      <td>Travel_Rarely</td>\n",
       "      <td>1373</td>\n",
       "      <td>Research_Development</td>\n",
       "      <td>2</td>\n",
       "      <td>2</td>\n",
       "      <td>Other</td>\n",
       "      <td>1</td>\n",
       "      <td>4</td>\n",
       "      <td>...</td>\n",
       "      <td>2</td>\n",
       "      <td>80</td>\n",
       "      <td>0</td>\n",
       "      <td>7</td>\n",
       "      <td>3</td>\n",
       "      <td>3</td>\n",
       "      <td>0</td>\n",
       "      <td>0</td>\n",
       "      <td>0</td>\n",
       "      <td>0</td>\n",
       "    </tr>\n",
       "    <tr>\n",
       "      <th>3</th>\n",
       "      <td>33</td>\n",
       "      <td>No</td>\n",
       "      <td>Travel_Frequently</td>\n",
       "      <td>1392</td>\n",
       "      <td>Research_Development</td>\n",
       "      <td>3</td>\n",
       "      <td>4</td>\n",
       "      <td>Life_Sciences</td>\n",
       "      <td>1</td>\n",
       "      <td>5</td>\n",
       "      <td>...</td>\n",
       "      <td>3</td>\n",
       "      <td>80</td>\n",
       "      <td>0</td>\n",
       "      <td>8</td>\n",
       "      <td>3</td>\n",
       "      <td>3</td>\n",
       "      <td>8</td>\n",
       "      <td>7</td>\n",
       "      <td>3</td>\n",
       "      <td>0</td>\n",
       "    </tr>\n",
       "    <tr>\n",
       "      <th>4</th>\n",
       "      <td>27</td>\n",
       "      <td>No</td>\n",
       "      <td>Travel_Rarely</td>\n",
       "      <td>591</td>\n",
       "      <td>Research_Development</td>\n",
       "      <td>2</td>\n",
       "      <td>1</td>\n",
       "      <td>Medical</td>\n",
       "      <td>1</td>\n",
       "      <td>7</td>\n",
       "      <td>...</td>\n",
       "      <td>4</td>\n",
       "      <td>80</td>\n",
       "      <td>1</td>\n",
       "      <td>6</td>\n",
       "      <td>3</td>\n",
       "      <td>3</td>\n",
       "      <td>2</td>\n",
       "      <td>2</td>\n",
       "      <td>2</td>\n",
       "      <td>2</td>\n",
       "    </tr>\n",
       "  </tbody>\n",
       "</table>\n",
       "<p>5 rows × 35 columns</p>\n",
       "</div>"
      ],
      "text/plain": [
       "   Age Attrition     BusinessTravel  DailyRate            Department  \\\n",
       "0   41       Yes      Travel_Rarely       1102                 Sales   \n",
       "1   49        No  Travel_Frequently        279  Research_Development   \n",
       "2   37       Yes      Travel_Rarely       1373  Research_Development   \n",
       "3   33        No  Travel_Frequently       1392  Research_Development   \n",
       "4   27        No      Travel_Rarely        591  Research_Development   \n",
       "\n",
       "   DistanceFromHome  Education EducationField  EmployeeCount  EmployeeNumber  \\\n",
       "0                 1          2  Life_Sciences              1               1   \n",
       "1                 8          1  Life_Sciences              1               2   \n",
       "2                 2          2          Other              1               4   \n",
       "3                 3          4  Life_Sciences              1               5   \n",
       "4                 2          1        Medical              1               7   \n",
       "\n",
       "           ...           RelationshipSatisfaction StandardHours  \\\n",
       "0          ...                                  1            80   \n",
       "1          ...                                  4            80   \n",
       "2          ...                                  2            80   \n",
       "3          ...                                  3            80   \n",
       "4          ...                                  4            80   \n",
       "\n",
       "   StockOptionLevel  TotalWorkingYears  TrainingTimesLastYear WorkLifeBalance  \\\n",
       "0                 0                  8                      0               1   \n",
       "1                 1                 10                      3               3   \n",
       "2                 0                  7                      3               3   \n",
       "3                 0                  8                      3               3   \n",
       "4                 1                  6                      3               3   \n",
       "\n",
       "   YearsAtCompany YearsInCurrentRole  YearsSinceLastPromotion  \\\n",
       "0               6                  4                        0   \n",
       "1              10                  7                        1   \n",
       "2               0                  0                        0   \n",
       "3               8                  7                        3   \n",
       "4               2                  2                        2   \n",
       "\n",
       "   YearsWithCurrManager  \n",
       "0                     5  \n",
       "1                     7  \n",
       "2                     0  \n",
       "3                     0  \n",
       "4                     2  \n",
       "\n",
       "[5 rows x 35 columns]"
      ]
     },
     "execution_count": 6,
     "metadata": {},
     "output_type": "execute_result"
    }
   ],
   "source": [
    "data.head()"
   ]
  },
  {
   "cell_type": "code",
   "execution_count": 7,
   "metadata": {},
   "outputs": [
    {
     "name": "stdout",
     "output_type": "stream",
     "text": [
      "<class 'pandas.core.frame.DataFrame'>\n",
      "RangeIndex: 1470 entries, 0 to 1469\n",
      "Data columns (total 35 columns):\n",
      "Age                         1470 non-null int64\n",
      "Attrition                   1470 non-null object\n",
      "BusinessTravel              1470 non-null object\n",
      "DailyRate                   1470 non-null int64\n",
      "Department                  1470 non-null object\n",
      "DistanceFromHome            1470 non-null int64\n",
      "Education                   1470 non-null int64\n",
      "EducationField              1470 non-null object\n",
      "EmployeeCount               1470 non-null int64\n",
      "EmployeeNumber              1470 non-null int64\n",
      "EnvironmentSatisfaction     1470 non-null int64\n",
      "Gender                      1470 non-null object\n",
      "HourlyRate                  1470 non-null int64\n",
      "JobInvolvement              1470 non-null int64\n",
      "JobLevel                    1470 non-null int64\n",
      "JobRole                     1470 non-null object\n",
      "JobSatisfaction             1470 non-null int64\n",
      "MaritalStatus               1470 non-null object\n",
      "MonthlyIncome               1470 non-null int64\n",
      "MonthlyRate                 1470 non-null int64\n",
      "NumCompaniesWorked          1470 non-null int64\n",
      "Over18                      1470 non-null object\n",
      "OverTime                    1470 non-null object\n",
      "PercentSalaryHike           1470 non-null int64\n",
      "PerformanceRating           1470 non-null int64\n",
      "RelationshipSatisfaction    1470 non-null int64\n",
      "StandardHours               1470 non-null int64\n",
      "StockOptionLevel            1470 non-null int64\n",
      "TotalWorkingYears           1470 non-null int64\n",
      "TrainingTimesLastYear       1470 non-null int64\n",
      "WorkLifeBalance             1470 non-null int64\n",
      "YearsAtCompany              1470 non-null int64\n",
      "YearsInCurrentRole          1470 non-null int64\n",
      "YearsSinceLastPromotion     1470 non-null int64\n",
      "YearsWithCurrManager        1470 non-null int64\n",
      "dtypes: int64(26), object(9)\n",
      "memory usage: 402.0+ KB\n"
     ]
    }
   ],
   "source": [
    "#as we can see there are no missing values in the dataset\n",
    "#if there were any, we would drop NAs\n",
    "\n",
    "data.info()"
   ]
  },
  {
   "cell_type": "code",
   "execution_count": 8,
   "metadata": {},
   "outputs": [],
   "source": [
    "data_num=data.select_dtypes(exclude=\"object\")\n",
    "data_obj=data.select_dtypes(include=\"object\")"
   ]
  },
  {
   "cell_type": "code",
   "execution_count": 9,
   "metadata": {},
   "outputs": [
    {
     "name": "stdout",
     "output_type": "stream",
     "text": [
      "<class 'pandas.core.frame.DataFrame'>\n",
      "RangeIndex: 1470 entries, 0 to 1469\n",
      "Data columns (total 26 columns):\n",
      "Age                         1470 non-null int64\n",
      "DailyRate                   1470 non-null int64\n",
      "DistanceFromHome            1470 non-null int64\n",
      "Education                   1470 non-null int64\n",
      "EmployeeCount               1470 non-null int64\n",
      "EmployeeNumber              1470 non-null int64\n",
      "EnvironmentSatisfaction     1470 non-null int64\n",
      "HourlyRate                  1470 non-null int64\n",
      "JobInvolvement              1470 non-null int64\n",
      "JobLevel                    1470 non-null int64\n",
      "JobSatisfaction             1470 non-null int64\n",
      "MonthlyIncome               1470 non-null int64\n",
      "MonthlyRate                 1470 non-null int64\n",
      "NumCompaniesWorked          1470 non-null int64\n",
      "PercentSalaryHike           1470 non-null int64\n",
      "PerformanceRating           1470 non-null int64\n",
      "RelationshipSatisfaction    1470 non-null int64\n",
      "StandardHours               1470 non-null int64\n",
      "StockOptionLevel            1470 non-null int64\n",
      "TotalWorkingYears           1470 non-null int64\n",
      "TrainingTimesLastYear       1470 non-null int64\n",
      "WorkLifeBalance             1470 non-null int64\n",
      "YearsAtCompany              1470 non-null int64\n",
      "YearsInCurrentRole          1470 non-null int64\n",
      "YearsSinceLastPromotion     1470 non-null int64\n",
      "YearsWithCurrManager        1470 non-null int64\n",
      "dtypes: int64(26)\n",
      "memory usage: 298.7 KB\n"
     ]
    }
   ],
   "source": [
    "data_num.info()"
   ]
  },
  {
   "cell_type": "code",
   "execution_count": 10,
   "metadata": {},
   "outputs": [
    {
     "name": "stdout",
     "output_type": "stream",
     "text": [
      "<class 'pandas.core.frame.DataFrame'>\n",
      "RangeIndex: 1470 entries, 0 to 1469\n",
      "Data columns (total 9 columns):\n",
      "Attrition         1470 non-null object\n",
      "BusinessTravel    1470 non-null object\n",
      "Department        1470 non-null object\n",
      "EducationField    1470 non-null object\n",
      "Gender            1470 non-null object\n",
      "JobRole           1470 non-null object\n",
      "MaritalStatus     1470 non-null object\n",
      "Over18            1470 non-null object\n",
      "OverTime          1470 non-null object\n",
      "dtypes: object(9)\n",
      "memory usage: 103.4+ KB\n"
     ]
    }
   ],
   "source": [
    "data_obj.info()"
   ]
  },
  {
   "cell_type": "code",
   "execution_count": 11,
   "metadata": {},
   "outputs": [
    {
     "data": {
      "text/plain": [
       "Age                         False\n",
       "DailyRate                   False\n",
       "DistanceFromHome            False\n",
       "Education                   False\n",
       "EmployeeCount               False\n",
       "EmployeeNumber              False\n",
       "EnvironmentSatisfaction     False\n",
       "HourlyRate                  False\n",
       "JobInvolvement              False\n",
       "JobLevel                    False\n",
       "JobSatisfaction             False\n",
       "MonthlyIncome               False\n",
       "MonthlyRate                 False\n",
       "NumCompaniesWorked          False\n",
       "PercentSalaryHike           False\n",
       "PerformanceRating           False\n",
       "RelationshipSatisfaction    False\n",
       "StandardHours                True\n",
       "StockOptionLevel            False\n",
       "TotalWorkingYears           False\n",
       "TrainingTimesLastYear       False\n",
       "WorkLifeBalance             False\n",
       "YearsAtCompany              False\n",
       "YearsInCurrentRole          False\n",
       "YearsSinceLastPromotion     False\n",
       "YearsWithCurrManager        False\n",
       "dtype: bool"
      ]
     },
     "execution_count": 11,
     "metadata": {},
     "output_type": "execute_result"
    }
   ],
   "source": [
    "#we will drop \"StandardHours\" since there we have 0 variance\n",
    "data_num.var()==0"
   ]
  },
  {
   "cell_type": "code",
   "execution_count": 12,
   "metadata": {},
   "outputs": [],
   "source": [
    "data_num=data_num.drop(columns=\"StandardHours\")"
   ]
  },
  {
   "cell_type": "code",
   "execution_count": 15,
   "metadata": {},
   "outputs": [
    {
     "name": "stdout",
     "output_type": "stream",
     "text": [
      "Attrition :\n",
      "['Yes' 'No']\n",
      "BusinessTravel :\n",
      "['Travel_Rarely' 'Travel_Frequently' 'Non-Travel']\n",
      "Department :\n",
      "['Sales' 'Research_Development' 'Human_Resources']\n",
      "EducationField :\n",
      "['Life_Sciences' 'Other' 'Medical' 'Marketing' 'Technical_Degree'\n",
      " 'Human_Resources']\n",
      "Gender :\n",
      "['Female' 'Male']\n",
      "JobRole :\n",
      "['Sales_Executive' 'Research_Scientist' 'Laboratory_Technician'\n",
      " 'Manufacturing_Director' 'Healthcare_Representative' 'Manager'\n",
      " 'Sales_Representative' 'Research_Director' 'Human_Resources']\n",
      "MaritalStatus :\n",
      "['Single' 'Married' 'Divorced']\n",
      "Over18 :\n",
      "['Y']\n",
      "OverTime :\n",
      "['Yes' 'No']\n"
     ]
    }
   ],
   "source": [
    "#\"Over18\" is a variable with 1 unique value,so we will drop it\n",
    "\n",
    "for i in data_obj.columns:\n",
    "    print(i,\":\")\n",
    "    print(data_obj[i].unique())"
   ]
  },
  {
   "cell_type": "code",
   "execution_count": 16,
   "metadata": {},
   "outputs": [],
   "source": [
    "data_obj=data_obj.drop(columns=\"Over18\")"
   ]
  },
  {
   "cell_type": "code",
   "execution_count": 17,
   "metadata": {},
   "outputs": [],
   "source": [
    "#creating dummy variables for objects\n",
    "\n",
    "data_dummies=pd.get_dummies(data_obj,prefix=data_obj.columns,drop_first=True)"
   ]
  },
  {
   "cell_type": "code",
   "execution_count": 26,
   "metadata": {},
   "outputs": [
    {
     "data": {
      "image/png": "[encoded data removed]",
      "text/plain": [
       "<Figure size 864x720 with 2 Axes>"
      ]
     },
     "metadata": {},
     "output_type": "display_data"
    }
   ],
   "source": [
    "#checking for the correlation \n",
    "#we will drop highly correlated variables \n",
    "\n",
    "plt.figure(figsize=(12,10))\n",
    "sns.heatmap(data_num.corr().abs().round(2),annot=True)\n",
    "plt.show()"
   ]
  },
  {
   "cell_type": "code",
   "execution_count": 19,
   "metadata": {},
   "outputs": [],
   "source": [
    "data_num=data_num.drop(columns=\"EmployeeCount\")"
   ]
  },
  {
   "cell_type": "code",
   "execution_count": 20,
   "metadata": {},
   "outputs": [],
   "source": [
    "data_num=data_num.drop(columns=\"YearsAtCompany\")"
   ]
  },
  {
   "cell_type": "code",
   "execution_count": 21,
   "metadata": {},
   "outputs": [],
   "source": [
    "data_num=data_num.drop(columns=\"JobLevel\")"
   ]
  },
  {
   "cell_type": "code",
   "execution_count": 22,
   "metadata": {},
   "outputs": [],
   "source": [
    "data_num=data_num.drop(columns=\"TotalWorkingYears\")"
   ]
  },
  {
   "cell_type": "code",
   "execution_count": 23,
   "metadata": {},
   "outputs": [],
   "source": [
    "data_num=data_num.drop(columns=\"PercentSalaryHike\")"
   ]
  },
  {
   "cell_type": "code",
   "execution_count": 24,
   "metadata": {},
   "outputs": [],
   "source": [
    "#after making relevant preparation, we can join the data\n",
    "\n",
    "data_final=data_num.join(data_dummies)"
   ]
  },
  {
   "cell_type": "code",
   "execution_count": 25,
   "metadata": {},
   "outputs": [
    {
     "name": "stdout",
     "output_type": "stream",
     "text": [
      "<class 'pandas.core.frame.DataFrame'>\n",
      "RangeIndex: 1470 entries, 0 to 1469\n",
      "Data columns (total 42 columns):\n",
      "Age                                 1470 non-null int64\n",
      "DailyRate                           1470 non-null int64\n",
      "DistanceFromHome                    1470 non-null int64\n",
      "Education                           1470 non-null int64\n",
      "EmployeeNumber                      1470 non-null int64\n",
      "EnvironmentSatisfaction             1470 non-null int64\n",
      "HourlyRate                          1470 non-null int64\n",
      "JobInvolvement                      1470 non-null int64\n",
      "JobSatisfaction                     1470 non-null int64\n",
      "MonthlyIncome                       1470 non-null int64\n",
      "MonthlyRate                         1470 non-null int64\n",
      "NumCompaniesWorked                  1470 non-null int64\n",
      "PerformanceRating                   1470 non-null int64\n",
      "RelationshipSatisfaction            1470 non-null int64\n",
      "StockOptionLevel                    1470 non-null int64\n",
      "TrainingTimesLastYear               1470 non-null int64\n",
      "WorkLifeBalance                     1470 non-null int64\n",
      "YearsInCurrentRole                  1470 non-null int64\n",
      "YearsSinceLastPromotion             1470 non-null int64\n",
      "YearsWithCurrManager                1470 non-null int64\n",
      "Attrition_Yes                       1470 non-null uint8\n",
      "BusinessTravel_Travel_Frequently    1470 non-null uint8\n",
      "BusinessTravel_Travel_Rarely        1470 non-null uint8\n",
      "Department_Research_Development     1470 non-null uint8\n",
      "Department_Sales                    1470 non-null uint8\n",
      "EducationField_Life_Sciences        1470 non-null uint8\n",
      "EducationField_Marketing            1470 non-null uint8\n",
      "EducationField_Medical              1470 non-null uint8\n",
      "EducationField_Other                1470 non-null uint8\n",
      "EducationField_Technical_Degree     1470 non-null uint8\n",
      "Gender_Male                         1470 non-null uint8\n",
      "JobRole_Human_Resources             1470 non-null uint8\n",
      "JobRole_Laboratory_Technician       1470 non-null uint8\n",
      "JobRole_Manager                     1470 non-null uint8\n",
      "JobRole_Manufacturing_Director      1470 non-null uint8\n",
      "JobRole_Research_Director           1470 non-null uint8\n",
      "JobRole_Research_Scientist          1470 non-null uint8\n",
      "JobRole_Sales_Executive             1470 non-null uint8\n",
      "JobRole_Sales_Representative        1470 non-null uint8\n",
      "MaritalStatus_Married               1470 non-null uint8\n",
      "MaritalStatus_Single                1470 non-null uint8\n",
      "OverTime_Yes                        1470 non-null uint8\n",
      "dtypes: int64(20), uint8(22)\n",
      "memory usage: 261.3 KB\n"
     ]
    }
   ],
   "source": [
    "data_final.info()"
   ]
  },
  {
   "cell_type": "markdown",
   "metadata": {},
   "source": [
    "# Logistic Regression"
   ]
  },
  {
   "cell_type": "code",
   "execution_count": 27,
   "metadata": {},
   "outputs": [
    {
     "data": {
      "text/plain": [
       "0    83.877551\n",
       "1    16.122449\n",
       "Name: Attrition_Yes, dtype: float64"
      ]
     },
     "execution_count": 27,
     "metadata": {},
     "output_type": "execute_result"
    }
   ],
   "source": [
    "data_final.Attrition_Yes.value_counts()/len(data_final)*100"
   ]
  },
  {
   "cell_type": "markdown",
   "metadata": {},
   "source": [
    "As we can see the probability that a new employee will not leave the company is 83%, while the probability that he/she will leave is just 16%"
   ]
  },
  {
   "cell_type": "code",
   "execution_count": 28,
   "metadata": {},
   "outputs": [],
   "source": [
    "Y=data_final.Attrition_Yes\n",
    "X=data_final.drop(\"Attrition_Yes\",axis=1)"
   ]
  },
  {
   "cell_type": "code",
   "execution_count": 29,
   "metadata": {},
   "outputs": [],
   "source": [
    "x_train,x_test,y_train,y_test=train_test_split(X,Y,test_size=0.25,random_state=42)"
   ]
  },
  {
   "cell_type": "code",
   "execution_count": 30,
   "metadata": {},
   "outputs": [
    {
     "data": {
      "text/plain": [
       "'Attrition_Yes~Age+DailyRate+DistanceFromHome+Education+EmployeeNumber+EnvironmentSatisfaction+HourlyRate+JobInvolvement+JobSatisfaction+MonthlyIncome+MonthlyRate+NumCompaniesWorked+PerformanceRating+RelationshipSatisfaction+StockOptionLevel+TrainingTimesLastYear+WorkLifeBalance+YearsInCurrentRole+YearsSinceLastPromotion+YearsWithCurrManager+BusinessTravel_Travel_Frequently+BusinessTravel_Travel_Rarely+Department_Research_Development+Department_Sales+EducationField_Life_Sciences+EducationField_Marketing+EducationField_Medical+EducationField_Other+EducationField_Technical_Degree+Gender_Male+JobRole_Human_Resources+JobRole_Laboratory_Technician+JobRole_Manager+JobRole_Manufacturing_Director+JobRole_Research_Director+JobRole_Research_Scientist+JobRole_Sales_Executive+JobRole_Sales_Representative+MaritalStatus_Married+MaritalStatus_Single+OverTime_Yes'"
      ]
     },
     "execution_count": 30,
     "metadata": {},
     "output_type": "execute_result"
    }
   ],
   "source": [
    "formula=\"Attrition_Yes~\" + \"+\".join(X.columns.tolist())\n",
    "formula"
   ]
  },
  {
   "cell_type": "code",
   "execution_count": 31,
   "metadata": {},
   "outputs": [
    {
     "name": "stdout",
     "output_type": "stream",
     "text": [
      "Warning: Maximum number of iterations has been exceeded.\n",
      "         Current function value: 0.294829\n",
      "         Iterations: 35\n"
     ]
    },
    {
     "name": "stderr",
     "output_type": "stream",
     "text": [
      "/Applications/anaconda3/lib/python3.6/site-packages/statsmodels/base/model.py:508: ConvergenceWarning: Maximum Likelihood optimization failed to converge. Check mle_retvals\n",
      "  \"Check mle_retvals\", ConvergenceWarning)\n"
     ]
    }
   ],
   "source": [
    "logit=Logit.from_formula(formula=formula, data=data_final).fit()"
   ]
  },
  {
   "cell_type": "code",
   "execution_count": 32,
   "metadata": {},
   "outputs": [
    {
     "data": {
      "text/html": [
       "<table class=\"simpletable\">\n",
       "<caption>Logit Regression Results</caption>\n",
       "<tr>\n",
       "  <th>Dep. Variable:</th>   <td>Attrition_Yes</td>  <th>  No. Observations:  </th>  <td>  1470</td>  \n",
       "</tr>\n",
       "<tr>\n",
       "  <th>Model:</th>               <td>Logit</td>      <th>  Df Residuals:      </th>  <td>  1428</td>  \n",
       "</tr>\n",
       "<tr>\n",
       "  <th>Method:</th>               <td>MLE</td>       <th>  Df Model:          </th>  <td>    41</td>  \n",
       "</tr>\n",
       "<tr>\n",
       "  <th>Date:</th>          <td>Sat, 10 Nov 2018</td> <th>  Pseudo R-squ.:     </th>  <td>0.3325</td>  \n",
       "</tr>\n",
       "<tr>\n",
       "  <th>Time:</th>              <td>18:59:38</td>     <th>  Log-Likelihood:    </th> <td> -433.40</td> \n",
       "</tr>\n",
       "<tr>\n",
       "  <th>converged:</th>           <td>False</td>      <th>  LL-Null:           </th> <td> -649.29</td> \n",
       "</tr>\n",
       "<tr>\n",
       "  <th> </th>                      <td> </td>        <th>  LLR p-value:       </th> <td>1.160e-66</td>\n",
       "</tr>\n",
       "</table>\n",
       "<table class=\"simpletable\">\n",
       "<tr>\n",
       "                  <td></td>                    <th>coef</th>     <th>std err</th>      <th>z</th>      <th>P>|z|</th>  <th>[0.025</th>    <th>0.975]</th>  \n",
       "</tr>\n",
       "<tr>\n",
       "  <th>Intercept</th>                        <td>  -10.8938</td> <td> 1023.960</td> <td>   -0.011</td> <td> 0.992</td> <td>-2017.820</td> <td> 1996.032</td>\n",
       "</tr>\n",
       "<tr>\n",
       "  <th>Age</th>                              <td>   -0.0432</td> <td>    0.012</td> <td>   -3.541</td> <td> 0.000</td> <td>   -0.067</td> <td>   -0.019</td>\n",
       "</tr>\n",
       "<tr>\n",
       "  <th>DailyRate</th>                        <td>   -0.0003</td> <td>    0.000</td> <td>   -1.388</td> <td> 0.165</td> <td>   -0.001</td> <td>    0.000</td>\n",
       "</tr>\n",
       "<tr>\n",
       "  <th>DistanceFromHome</th>                 <td>    0.0438</td> <td>    0.011</td> <td>    4.102</td> <td> 0.000</td> <td>    0.023</td> <td>    0.065</td>\n",
       "</tr>\n",
       "<tr>\n",
       "  <th>Education</th>                        <td>    0.0093</td> <td>    0.088</td> <td>    0.107</td> <td> 0.915</td> <td>   -0.163</td> <td>    0.181</td>\n",
       "</tr>\n",
       "<tr>\n",
       "  <th>EmployeeNumber</th>                   <td>   -0.0001</td> <td>    0.000</td> <td>   -0.898</td> <td> 0.369</td> <td>   -0.000</td> <td>    0.000</td>\n",
       "</tr>\n",
       "<tr>\n",
       "  <th>EnvironmentSatisfaction</th>          <td>   -0.4187</td> <td>    0.082</td> <td>   -5.083</td> <td> 0.000</td> <td>   -0.580</td> <td>   -0.257</td>\n",
       "</tr>\n",
       "<tr>\n",
       "  <th>HourlyRate</th>                       <td>    0.0016</td> <td>    0.004</td> <td>    0.370</td> <td> 0.711</td> <td>   -0.007</td> <td>    0.010</td>\n",
       "</tr>\n",
       "<tr>\n",
       "  <th>JobInvolvement</th>                   <td>   -0.5277</td> <td>    0.121</td> <td>   -4.355</td> <td> 0.000</td> <td>   -0.765</td> <td>   -0.290</td>\n",
       "</tr>\n",
       "<tr>\n",
       "  <th>JobSatisfaction</th>                  <td>   -0.3978</td> <td>    0.080</td> <td>   -4.943</td> <td> 0.000</td> <td>   -0.556</td> <td>   -0.240</td>\n",
       "</tr>\n",
       "<tr>\n",
       "  <th>MonthlyIncome</th>                    <td>-2.831e-05</td> <td> 5.22e-05</td> <td>   -0.542</td> <td> 0.588</td> <td>   -0.000</td> <td>  7.4e-05</td>\n",
       "</tr>\n",
       "<tr>\n",
       "  <th>MonthlyRate</th>                      <td> 4.199e-06</td> <td> 1.25e-05</td> <td>    0.337</td> <td> 0.736</td> <td>-2.02e-05</td> <td> 2.86e-05</td>\n",
       "</tr>\n",
       "<tr>\n",
       "  <th>NumCompaniesWorked</th>               <td>    0.1650</td> <td>    0.037</td> <td>    4.425</td> <td> 0.000</td> <td>    0.092</td> <td>    0.238</td>\n",
       "</tr>\n",
       "<tr>\n",
       "  <th>PerformanceRating</th>                <td>   -0.0989</td> <td>    0.250</td> <td>   -0.395</td> <td> 0.693</td> <td>   -0.589</td> <td>    0.391</td>\n",
       "</tr>\n",
       "<tr>\n",
       "  <th>RelationshipSatisfaction</th>         <td>   -0.2515</td> <td>    0.082</td> <td>   -3.057</td> <td> 0.002</td> <td>   -0.413</td> <td>   -0.090</td>\n",
       "</tr>\n",
       "<tr>\n",
       "  <th>StockOptionLevel</th>                 <td>   -0.1900</td> <td>    0.158</td> <td>   -1.206</td> <td> 0.228</td> <td>   -0.499</td> <td>    0.119</td>\n",
       "</tr>\n",
       "<tr>\n",
       "  <th>TrainingTimesLastYear</th>            <td>   -0.1835</td> <td>    0.073</td> <td>   -2.525</td> <td> 0.012</td> <td>   -0.326</td> <td>   -0.041</td>\n",
       "</tr>\n",
       "<tr>\n",
       "  <th>WorkLifeBalance</th>                  <td>   -0.3637</td> <td>    0.123</td> <td>   -2.946</td> <td> 0.003</td> <td>   -0.606</td> <td>   -0.122</td>\n",
       "</tr>\n",
       "<tr>\n",
       "  <th>YearsInCurrentRole</th>               <td>   -0.1156</td> <td>    0.042</td> <td>   -2.741</td> <td> 0.006</td> <td>   -0.198</td> <td>   -0.033</td>\n",
       "</tr>\n",
       "<tr>\n",
       "  <th>YearsSinceLastPromotion</th>          <td>    0.2008</td> <td>    0.040</td> <td>    4.972</td> <td> 0.000</td> <td>    0.122</td> <td>    0.280</td>\n",
       "</tr>\n",
       "<tr>\n",
       "  <th>YearsWithCurrManager</th>             <td>   -0.0985</td> <td>    0.042</td> <td>   -2.368</td> <td> 0.018</td> <td>   -0.180</td> <td>   -0.017</td>\n",
       "</tr>\n",
       "<tr>\n",
       "  <th>BusinessTravel_Travel_Frequently</th> <td>    1.8665</td> <td>    0.408</td> <td>    4.577</td> <td> 0.000</td> <td>    1.067</td> <td>    2.666</td>\n",
       "</tr>\n",
       "<tr>\n",
       "  <th>BusinessTravel_Travel_Rarely</th>     <td>    0.9709</td> <td>    0.376</td> <td>    2.582</td> <td> 0.010</td> <td>    0.234</td> <td>    1.708</td>\n",
       "</tr>\n",
       "<tr>\n",
       "  <th>Department_Research_Development</th>  <td>   13.5900</td> <td> 1023.960</td> <td>    0.013</td> <td> 0.989</td> <td>-1993.334</td> <td> 2020.514</td>\n",
       "</tr>\n",
       "<tr>\n",
       "  <th>Department_Sales</th>                 <td>   13.3493</td> <td> 1023.960</td> <td>    0.013</td> <td> 0.990</td> <td>-1993.575</td> <td> 2020.273</td>\n",
       "</tr>\n",
       "<tr>\n",
       "  <th>EducationField_Life_Sciences</th>     <td>   -0.7139</td> <td>    0.801</td> <td>   -0.891</td> <td> 0.373</td> <td>   -2.285</td> <td>    0.857</td>\n",
       "</tr>\n",
       "<tr>\n",
       "  <th>EducationField_Marketing</th>         <td>   -0.3214</td> <td>    0.849</td> <td>   -0.379</td> <td> 0.705</td> <td>   -1.986</td> <td>    1.343</td>\n",
       "</tr>\n",
       "<tr>\n",
       "  <th>EducationField_Medical</th>           <td>   -0.7941</td> <td>    0.801</td> <td>   -0.992</td> <td> 0.321</td> <td>   -2.363</td> <td>    0.775</td>\n",
       "</tr>\n",
       "<tr>\n",
       "  <th>EducationField_Other</th>             <td>   -0.8147</td> <td>    0.861</td> <td>   -0.947</td> <td> 0.344</td> <td>   -2.501</td> <td>    0.872</td>\n",
       "</tr>\n",
       "<tr>\n",
       "  <th>EducationField_Technical_Degree</th>  <td>    0.1744</td> <td>    0.819</td> <td>    0.213</td> <td> 0.831</td> <td>   -1.431</td> <td>    1.780</td>\n",
       "</tr>\n",
       "<tr>\n",
       "  <th>Gender_Male</th>                      <td>    0.4042</td> <td>    0.184</td> <td>    2.200</td> <td> 0.028</td> <td>    0.044</td> <td>    0.764</td>\n",
       "</tr>\n",
       "<tr>\n",
       "  <th>JobRole_Human_Resources</th>          <td>   15.0723</td> <td> 1023.960</td> <td>    0.015</td> <td> 0.988</td> <td>-1991.852</td> <td> 2021.996</td>\n",
       "</tr>\n",
       "<tr>\n",
       "  <th>JobRole_Laboratory_Technician</th>    <td>    1.5890</td> <td>    0.473</td> <td>    3.361</td> <td> 0.001</td> <td>    0.662</td> <td>    2.516</td>\n",
       "</tr>\n",
       "<tr>\n",
       "  <th>JobRole_Manager</th>                  <td>    0.5727</td> <td>    0.871</td> <td>    0.658</td> <td> 0.511</td> <td>   -1.134</td> <td>    2.279</td>\n",
       "</tr>\n",
       "<tr>\n",
       "  <th>JobRole_Manufacturing_Director</th>   <td>    0.2432</td> <td>    0.536</td> <td>    0.454</td> <td> 0.650</td> <td>   -0.807</td> <td>    1.293</td>\n",
       "</tr>\n",
       "<tr>\n",
       "  <th>JobRole_Research_Director</th>        <td>   -0.9054</td> <td>    0.968</td> <td>   -0.935</td> <td> 0.350</td> <td>   -2.803</td> <td>    0.993</td>\n",
       "</tr>\n",
       "<tr>\n",
       "  <th>JobRole_Research_Scientist</th>       <td>    0.6695</td> <td>    0.478</td> <td>    1.399</td> <td> 0.162</td> <td>   -0.268</td> <td>    1.607</td>\n",
       "</tr>\n",
       "<tr>\n",
       "  <th>JobRole_Sales_Executive</th>          <td>    1.3808</td> <td>    1.114</td> <td>    1.239</td> <td> 0.215</td> <td>   -0.803</td> <td>    3.565</td>\n",
       "</tr>\n",
       "<tr>\n",
       "  <th>JobRole_Sales_Representative</th>     <td>    2.3274</td> <td>    1.165</td> <td>    1.997</td> <td> 0.046</td> <td>    0.043</td> <td>    4.612</td>\n",
       "</tr>\n",
       "<tr>\n",
       "  <th>MaritalStatus_Married</th>            <td>    0.3111</td> <td>    0.265</td> <td>    1.172</td> <td> 0.241</td> <td>   -0.209</td> <td>    0.831</td>\n",
       "</tr>\n",
       "<tr>\n",
       "  <th>MaritalStatus_Single</th>             <td>    1.1578</td> <td>    0.343</td> <td>    3.371</td> <td> 0.001</td> <td>    0.485</td> <td>    1.831</td>\n",
       "</tr>\n",
       "<tr>\n",
       "  <th>OverTime_Yes</th>                     <td>    1.9507</td> <td>    0.192</td> <td>   10.166</td> <td> 0.000</td> <td>    1.575</td> <td>    2.327</td>\n",
       "</tr>\n",
       "</table>"
      ],
      "text/plain": [
       "<class 'statsmodels.iolib.summary.Summary'>\n",
       "\"\"\"\n",
       "                           Logit Regression Results                           \n",
       "==============================================================================\n",
       "Dep. Variable:          Attrition_Yes   No. Observations:                 1470\n",
       "Model:                          Logit   Df Residuals:                     1428\n",
       "Method:                           MLE   Df Model:                           41\n",
       "Date:                Sat, 10 Nov 2018   Pseudo R-squ.:                  0.3325\n",
       "Time:                        18:59:38   Log-Likelihood:                -433.40\n",
       "converged:                      False   LL-Null:                       -649.29\n",
       "                                        LLR p-value:                 1.160e-66\n",
       "====================================================================================================\n",
       "                                       coef    std err          z      P>|z|      [0.025      0.975]\n",
       "----------------------------------------------------------------------------------------------------\n",
       "Intercept                          -10.8938   1023.960     -0.011      0.992   -2017.820    1996.032\n",
       "Age                                 -0.0432      0.012     -3.541      0.000      -0.067      -0.019\n",
       "DailyRate                           -0.0003      0.000     -1.388      0.165      -0.001       0.000\n",
       "DistanceFromHome                     0.0438      0.011      4.102      0.000       0.023       0.065\n",
       "Education                            0.0093      0.088      0.107      0.915      -0.163       0.181\n",
       "EmployeeNumber                      -0.0001      0.000     -0.898      0.369      -0.000       0.000\n",
       "EnvironmentSatisfaction             -0.4187      0.082     -5.083      0.000      -0.580      -0.257\n",
       "HourlyRate                           0.0016      0.004      0.370      0.711      -0.007       0.010\n",
       "JobInvolvement                      -0.5277      0.121     -4.355      0.000      -0.765      -0.290\n",
       "JobSatisfaction                     -0.3978      0.080     -4.943      0.000      -0.556      -0.240\n",
       "MonthlyIncome                    -2.831e-05   5.22e-05     -0.542      0.588      -0.000     7.4e-05\n",
       "MonthlyRate                       4.199e-06   1.25e-05      0.337      0.736   -2.02e-05    2.86e-05\n",
       "NumCompaniesWorked                   0.1650      0.037      4.425      0.000       0.092       0.238\n",
       "PerformanceRating                   -0.0989      0.250     -0.395      0.693      -0.589       0.391\n",
       "RelationshipSatisfaction            -0.2515      0.082     -3.057      0.002      -0.413      -0.090\n",
       "StockOptionLevel                    -0.1900      0.158     -1.206      0.228      -0.499       0.119\n",
       "TrainingTimesLastYear               -0.1835      0.073     -2.525      0.012      -0.326      -0.041\n",
       "WorkLifeBalance                     -0.3637      0.123     -2.946      0.003      -0.606      -0.122\n",
       "YearsInCurrentRole                  -0.1156      0.042     -2.741      0.006      -0.198      -0.033\n",
       "YearsSinceLastPromotion              0.2008      0.040      4.972      0.000       0.122       0.280\n",
       "YearsWithCurrManager                -0.0985      0.042     -2.368      0.018      -0.180      -0.017\n",
       "BusinessTravel_Travel_Frequently     1.8665      0.408      4.577      0.000       1.067       2.666\n",
       "BusinessTravel_Travel_Rarely         0.9709      0.376      2.582      0.010       0.234       1.708\n",
       "Department_Research_Development     13.5900   1023.960      0.013      0.989   -1993.334    2020.514\n",
       "Department_Sales                    13.3493   1023.960      0.013      0.990   -1993.575    2020.273\n",
       "EducationField_Life_Sciences        -0.7139      0.801     -0.891      0.373      -2.285       0.857\n",
       "EducationField_Marketing            -0.3214      0.849     -0.379      0.705      -1.986       1.343\n",
       "EducationField_Medical              -0.7941      0.801     -0.992      0.321      -2.363       0.775\n",
       "EducationField_Other                -0.8147      0.861     -0.947      0.344      -2.501       0.872\n",
       "EducationField_Technical_Degree      0.1744      0.819      0.213      0.831      -1.431       1.780\n",
       "Gender_Male                          0.4042      0.184      2.200      0.028       0.044       0.764\n",
       "JobRole_Human_Resources             15.0723   1023.960      0.015      0.988   -1991.852    2021.996\n",
       "JobRole_Laboratory_Technician        1.5890      0.473      3.361      0.001       0.662       2.516\n",
       "JobRole_Manager                      0.5727      0.871      0.658      0.511      -1.134       2.279\n",
       "JobRole_Manufacturing_Director       0.2432      0.536      0.454      0.650      -0.807       1.293\n",
       "JobRole_Research_Director           -0.9054      0.968     -0.935      0.350      -2.803       0.993\n",
       "JobRole_Research_Scientist           0.6695      0.478      1.399      0.162      -0.268       1.607\n",
       "JobRole_Sales_Executive              1.3808      1.114      1.239      0.215      -0.803       3.565\n",
       "JobRole_Sales_Representative         2.3274      1.165      1.997      0.046       0.043       4.612\n",
       "MaritalStatus_Married                0.3111      0.265      1.172      0.241      -0.209       0.831\n",
       "MaritalStatus_Single                 1.1578      0.343      3.371      0.001       0.485       1.831\n",
       "OverTime_Yes                         1.9507      0.192     10.166      0.000       1.575       2.327\n",
       "====================================================================================================\n",
       "\"\"\""
      ]
     },
     "execution_count": 32,
     "metadata": {},
     "output_type": "execute_result"
    }
   ],
   "source": [
    "logit.summary()"
   ]
  },
  {
   "cell_type": "markdown",
   "metadata": {},
   "source": [
    "From the results we should interpret only those variables that are statistically significant(have p-value less than 0.05).\n",
    "\n",
    "Thus,the following variables are statistically significant:\n",
    "Age,DistanceFromHome,EnvironmentSatisfaction,JobInvolvement,JobSatisfaction,NumCompaniesWorked,\n",
    "RelationshipSatisfaction,TrainingTimesLastYear,WorkLifeBalance,YearsInCurrentRole,YearsWithCurrManager,\n",
    "YearsSinceLastPromotion,BusinessTravel_Travel_Frequently,BusinessTravel_Travel_Rarely,Gender_Male,\n",
    "JobRole_Laboratory_Technician,JobRole_Sales_Representative,MaritalStatus_Single,OverTime_Yes\n",
    "\n",
    "From these statistically significant variables, those that have positive coefficients will increase the probability of an employee attrition,while those that have negative coefficients will decrease the probability of an employee attrition."
   ]
  },
  {
   "cell_type": "code",
   "execution_count": 33,
   "metadata": {},
   "outputs": [],
   "source": [
    "logit_sk=LogisticRegression()"
   ]
  },
  {
   "cell_type": "code",
   "execution_count": 34,
   "metadata": {},
   "outputs": [],
   "source": [
    "logit_sk=logit_sk.fit(x_train,y_train)"
   ]
  },
  {
   "cell_type": "code",
   "execution_count": 35,
   "metadata": {},
   "outputs": [
    {
     "data": {
      "text/plain": [
       "0.8804347826086957"
      ]
     },
     "execution_count": 35,
     "metadata": {},
     "output_type": "execute_result"
    }
   ],
   "source": [
    "logit_sk.score(x_test,y_test)"
   ]
  },
  {
   "cell_type": "markdown",
   "metadata": {},
   "source": [
    "As we can see our model has 88% overall accuracy on the test set."
   ]
  },
  {
   "cell_type": "markdown",
   "metadata": {},
   "source": [
    "# Decision Tree"
   ]
  },
  {
   "cell_type": "code",
   "execution_count": 36,
   "metadata": {},
   "outputs": [
    {
     "data": {
      "text/plain": [
       "DecisionTreeClassifier(class_weight=None, criterion='gini', max_depth=None,\n",
       "            max_features=None, max_leaf_nodes=None,\n",
       "            min_impurity_decrease=0.0, min_impurity_split=None,\n",
       "            min_samples_leaf=1, min_samples_split=2,\n",
       "            min_weight_fraction_leaf=0.0, presort=False, random_state=42,\n",
       "            splitter='best')"
      ]
     },
     "execution_count": 36,
     "metadata": {},
     "output_type": "execute_result"
    }
   ],
   "source": [
    "tree_1=DecisionTreeClassifier(random_state=42)\n",
    "tree_1.fit(x_train,y_train)"
   ]
  },
  {
   "cell_type": "code",
   "execution_count": 37,
   "metadata": {},
   "outputs": [],
   "source": [
    "importances=tree_1.feature_importances_\n",
    "importances=pd.DataFrame(data=importances, index=X.columns, columns=['importances'])"
   ]
  },
  {
   "cell_type": "code",
   "execution_count": 38,
   "metadata": {},
   "outputs": [
    {
     "data": {
      "text/html": [
       "<div>\n",
       "<style scoped>\n",
       "    .dataframe tbody tr th:only-of-type {\n",
       "        vertical-align: middle;\n",
       "    }\n",
       "\n",
       "    .dataframe tbody tr th {\n",
       "        vertical-align: top;\n",
       "    }\n",
       "\n",
       "    .dataframe thead th {\n",
       "        text-align: right;\n",
       "    }\n",
       "</style>\n",
       "<table border=\"1\" class=\"dataframe\">\n",
       "  <thead>\n",
       "    <tr style=\"text-align: right;\">\n",
       "      <th></th>\n",
       "      <th>importances</th>\n",
       "    </tr>\n",
       "  </thead>\n",
       "  <tbody>\n",
       "    <tr>\n",
       "      <th>MonthlyIncome</th>\n",
       "      <td>0.142486</td>\n",
       "    </tr>\n",
       "    <tr>\n",
       "      <th>DailyRate</th>\n",
       "      <td>0.090195</td>\n",
       "    </tr>\n",
       "    <tr>\n",
       "      <th>EmployeeNumber</th>\n",
       "      <td>0.080821</td>\n",
       "    </tr>\n",
       "    <tr>\n",
       "      <th>OverTime_Yes</th>\n",
       "      <td>0.075114</td>\n",
       "    </tr>\n",
       "    <tr>\n",
       "      <th>Age</th>\n",
       "      <td>0.069635</td>\n",
       "    </tr>\n",
       "    <tr>\n",
       "      <th>YearsInCurrentRole</th>\n",
       "      <td>0.051618</td>\n",
       "    </tr>\n",
       "    <tr>\n",
       "      <th>HourlyRate</th>\n",
       "      <td>0.045605</td>\n",
       "    </tr>\n",
       "    <tr>\n",
       "      <th>NumCompaniesWorked</th>\n",
       "      <td>0.044997</td>\n",
       "    </tr>\n",
       "    <tr>\n",
       "      <th>YearsSinceLastPromotion</th>\n",
       "      <td>0.040302</td>\n",
       "    </tr>\n",
       "    <tr>\n",
       "      <th>MonthlyRate</th>\n",
       "      <td>0.038930</td>\n",
       "    </tr>\n",
       "    <tr>\n",
       "      <th>JobInvolvement</th>\n",
       "      <td>0.032134</td>\n",
       "    </tr>\n",
       "    <tr>\n",
       "      <th>YearsWithCurrManager</th>\n",
       "      <td>0.030419</td>\n",
       "    </tr>\n",
       "    <tr>\n",
       "      <th>WorkLifeBalance</th>\n",
       "      <td>0.029573</td>\n",
       "    </tr>\n",
       "    <tr>\n",
       "      <th>DistanceFromHome</th>\n",
       "      <td>0.029519</td>\n",
       "    </tr>\n",
       "    <tr>\n",
       "      <th>MaritalStatus_Single</th>\n",
       "      <td>0.027735</td>\n",
       "    </tr>\n",
       "    <tr>\n",
       "      <th>EnvironmentSatisfaction</th>\n",
       "      <td>0.025279</td>\n",
       "    </tr>\n",
       "    <tr>\n",
       "      <th>StockOptionLevel</th>\n",
       "      <td>0.021126</td>\n",
       "    </tr>\n",
       "    <tr>\n",
       "      <th>JobSatisfaction</th>\n",
       "      <td>0.018469</td>\n",
       "    </tr>\n",
       "    <tr>\n",
       "      <th>TrainingTimesLastYear</th>\n",
       "      <td>0.016508</td>\n",
       "    </tr>\n",
       "    <tr>\n",
       "      <th>Department_Sales</th>\n",
       "      <td>0.015159</td>\n",
       "    </tr>\n",
       "    <tr>\n",
       "      <th>RelationshipSatisfaction</th>\n",
       "      <td>0.013673</td>\n",
       "    </tr>\n",
       "    <tr>\n",
       "      <th>JobRole_Sales_Executive</th>\n",
       "      <td>0.010704</td>\n",
       "    </tr>\n",
       "    <tr>\n",
       "      <th>EducationField_Medical</th>\n",
       "      <td>0.009731</td>\n",
       "    </tr>\n",
       "    <tr>\n",
       "      <th>BusinessTravel_Travel_Frequently</th>\n",
       "      <td>0.009180</td>\n",
       "    </tr>\n",
       "    <tr>\n",
       "      <th>Education</th>\n",
       "      <td>0.007538</td>\n",
       "    </tr>\n",
       "    <tr>\n",
       "      <th>JobRole_Research_Director</th>\n",
       "      <td>0.005588</td>\n",
       "    </tr>\n",
       "    <tr>\n",
       "      <th>JobRole_Research_Scientist</th>\n",
       "      <td>0.004790</td>\n",
       "    </tr>\n",
       "    <tr>\n",
       "      <th>MaritalStatus_Married</th>\n",
       "      <td>0.004258</td>\n",
       "    </tr>\n",
       "    <tr>\n",
       "      <th>EducationField_Technical_Degree</th>\n",
       "      <td>0.003141</td>\n",
       "    </tr>\n",
       "    <tr>\n",
       "      <th>JobRole_Sales_Representative</th>\n",
       "      <td>0.003007</td>\n",
       "    </tr>\n",
       "    <tr>\n",
       "      <th>JobRole_Human_Resources</th>\n",
       "      <td>0.002767</td>\n",
       "    </tr>\n",
       "    <tr>\n",
       "      <th>JobRole_Manufacturing_Director</th>\n",
       "      <td>0.000000</td>\n",
       "    </tr>\n",
       "    <tr>\n",
       "      <th>Department_Research_Development</th>\n",
       "      <td>0.000000</td>\n",
       "    </tr>\n",
       "    <tr>\n",
       "      <th>EducationField_Life_Sciences</th>\n",
       "      <td>0.000000</td>\n",
       "    </tr>\n",
       "    <tr>\n",
       "      <th>EducationField_Marketing</th>\n",
       "      <td>0.000000</td>\n",
       "    </tr>\n",
       "    <tr>\n",
       "      <th>JobRole_Laboratory_Technician</th>\n",
       "      <td>0.000000</td>\n",
       "    </tr>\n",
       "    <tr>\n",
       "      <th>BusinessTravel_Travel_Rarely</th>\n",
       "      <td>0.000000</td>\n",
       "    </tr>\n",
       "    <tr>\n",
       "      <th>Gender_Male</th>\n",
       "      <td>0.000000</td>\n",
       "    </tr>\n",
       "    <tr>\n",
       "      <th>EducationField_Other</th>\n",
       "      <td>0.000000</td>\n",
       "    </tr>\n",
       "    <tr>\n",
       "      <th>PerformanceRating</th>\n",
       "      <td>0.000000</td>\n",
       "    </tr>\n",
       "    <tr>\n",
       "      <th>JobRole_Manager</th>\n",
       "      <td>0.000000</td>\n",
       "    </tr>\n",
       "  </tbody>\n",
       "</table>\n",
       "</div>"
      ],
      "text/plain": [
       "                                  importances\n",
       "MonthlyIncome                        0.142486\n",
       "DailyRate                            0.090195\n",
       "EmployeeNumber                       0.080821\n",
       "OverTime_Yes                         0.075114\n",
       "Age                                  0.069635\n",
       "YearsInCurrentRole                   0.051618\n",
       "HourlyRate                           0.045605\n",
       "NumCompaniesWorked                   0.044997\n",
       "YearsSinceLastPromotion              0.040302\n",
       "MonthlyRate                          0.038930\n",
       "JobInvolvement                       0.032134\n",
       "YearsWithCurrManager                 0.030419\n",
       "WorkLifeBalance                      0.029573\n",
       "DistanceFromHome                     0.029519\n",
       "MaritalStatus_Single                 0.027735\n",
       "EnvironmentSatisfaction              0.025279\n",
       "StockOptionLevel                     0.021126\n",
       "JobSatisfaction                      0.018469\n",
       "TrainingTimesLastYear                0.016508\n",
       "Department_Sales                     0.015159\n",
       "RelationshipSatisfaction             0.013673\n",
       "JobRole_Sales_Executive              0.010704\n",
       "EducationField_Medical               0.009731\n",
       "BusinessTravel_Travel_Frequently     0.009180\n",
       "Education                            0.007538\n",
       "JobRole_Research_Director            0.005588\n",
       "JobRole_Research_Scientist           0.004790\n",
       "MaritalStatus_Married                0.004258\n",
       "EducationField_Technical_Degree      0.003141\n",
       "JobRole_Sales_Representative         0.003007\n",
       "JobRole_Human_Resources              0.002767\n",
       "JobRole_Manufacturing_Director       0.000000\n",
       "Department_Research_Development      0.000000\n",
       "EducationField_Life_Sciences         0.000000\n",
       "EducationField_Marketing             0.000000\n",
       "JobRole_Laboratory_Technician        0.000000\n",
       "BusinessTravel_Travel_Rarely         0.000000\n",
       "Gender_Male                          0.000000\n",
       "EducationField_Other                 0.000000\n",
       "PerformanceRating                    0.000000\n",
       "JobRole_Manager                      0.000000"
      ]
     },
     "execution_count": 38,
     "metadata": {},
     "output_type": "execute_result"
    }
   ],
   "source": [
    "importances.sort_values(by=\"importances\", ascending=False)"
   ]
  },
  {
   "cell_type": "markdown",
   "metadata": {},
   "source": [
    "As we can see only the first 6 variables have relatively higher importance compared to others.\n",
    "\n",
    "In addition,the most important variable is \"MonthlyIncome\"."
   ]
  },
  {
   "cell_type": "code",
   "execution_count": 39,
   "metadata": {},
   "outputs": [
    {
     "data": {
      "text/plain": [
       "0.782608695652174"
      ]
     },
     "execution_count": 39,
     "metadata": {},
     "output_type": "execute_result"
    }
   ],
   "source": [
    "tree_1.score(x_test,y_test)"
   ]
  },
  {
   "cell_type": "markdown",
   "metadata": {},
   "source": [
    "In our Decision Tree_1 model overall accuracy is lower (78%) than in Logistic Regression model (88%). "
   ]
  },
  {
   "cell_type": "code",
   "execution_count": 40,
   "metadata": {},
   "outputs": [
    {
     "data": {
      "text/plain": [
       "0.8532608695652174"
      ]
     },
     "execution_count": 40,
     "metadata": {},
     "output_type": "execute_result"
    }
   ],
   "source": [
    "#now we will cut the tree and then check accuracy again.\n",
    "\n",
    "tree_2=DecisionTreeClassifier(max_depth=3,min_samples_leaf=100,random_state=42)\n",
    "tree_2.fit(x_train,y_train)\n",
    "tree_2.score(x_test,y_test)"
   ]
  },
  {
   "cell_type": "markdown",
   "metadata": {},
   "source": [
    "In our new Decision Tree_2 model accuracy is much higher."
   ]
  },
  {
   "cell_type": "code",
   "execution_count": 41,
   "metadata": {},
   "outputs": [],
   "source": [
    "#we can visually see the tree by putting the code from the word file saved into this \n",
    "#webpage http://webgraphviz.com/\n",
    "\n",
    "tree_gr2=export_graphviz(tree_2,out_file=\"tree2.dot\", class_names=True, feature_names=X.columns, filled=True)"
   ]
  },
  {
   "cell_type": "markdown",
   "metadata": {},
   "source": [
    "In cunclusion, although we increased the accuracy in Decision Tree model by cutting the tree(from 78% to 85%), Logistic Regression still has higher accuracy (88%) compared to that of the Decision Tree. "
   ]
  }
 ],
 "metadata": {
  "kernelspec": {
   "display_name": "Python 3",
   "language": "python",
   "name": "python3"
  },
  "language_info": {
   "codemirror_mode": {
    "name": "ipython",
    "version": 3
   },
   "file_extension": ".py",
   "mimetype": "text/x-python",
   "name": "python",
   "nbconvert_exporter": "python",
   "pygments_lexer": "ipython3",
   "version": "3.6.5"
  }
 },
 "nbformat": 4,
 "nbformat_minor": 2
}
